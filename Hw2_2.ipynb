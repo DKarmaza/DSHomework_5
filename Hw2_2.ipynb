{
  "nbformat": 4,
  "nbformat_minor": 0,
  "metadata": {
    "colab": {
      "provenance": []
    },
    "kernelspec": {
      "name": "python3",
      "display_name": "Python 3"
    },
    "language_info": {
      "name": "python"
    }
  },
  "cells": [
    {
      "cell_type": "code",
      "execution_count": null,
      "metadata": {
        "id": "NsvX-h20osC7"
      },
      "outputs": [],
      "source": [
        "import pandas as pd\n",
        "import numpy as np\n",
        "\n",
        "file_path = \"2017.csv\"\n",
        "df = pd.read_csv(file_path)\n",
        "\n",
        "print(\"Перші рядки таблиці:\")\n",
        "print(df.head())\n",
        "\n",
        "print(\"Розмір таблиці:\")\n",
        "print(df.shape)\n",
        "\n",
        "print(\"Tипи всіх стовпців:\")\n",
        "print(df.dtypes)\n",
        "\n",
        "print(\"Частка пропусків міститься в кожні колонці:\")\n",
        "missing_fraction = df.isnull().sum() / len(df)\n",
        "print(missing_fraction)\n",
        "\n",
        "keep_colums = [\"Мова програмування\"]\n",
        "df = df[keep_colums + [col for col in df.columns if col not in keep_colums and df[col].isnull().sum() == 0]]\n",
        "print(\"Всі стовпці з пропусками видалено\")\n",
        "\n",
        "print(\"Частка пропусків міститься в кожні колонці:\")\n",
        "print(df.isnull().sum() / len(df))\n",
        "\n",
        "df.dropna(inplace=True)\n",
        "print(\"Видалено всі рядки з пропусками\")\n",
        "\n",
        "print(\"Розмір таблиці:\")\n",
        "print(df.shape)\n",
        "\n",
        "python_data = df[df[\"Мова програмування\"].str.contains(\"Python\", na=False)]\n",
        "\n",
        "print(\"Розмір Python таблиці:\")\n",
        "print(python_data.shape)\n",
        "\n",
        "grouped = python_data.groupby(\"Посада\")\n",
        "\n",
        "salary_stats = grouped[\"salary\"].agg([\"min\", \"max\"]).reset_index\n",
        "print(\"Мінімальна та максимальна зарплата по посаді:\")\n",
        "print(salary_stats)\n",
        "\n",
        "output_file = \"python_salary_stats.csv\"\n",
        "salary_stats.to_csv(output_file, index=False)\n",
        "print(f\"Результати збережено в файл {output_file}\")"
      ]
    }
  ]
}